{
 "cells": [
  {
   "cell_type": "code",
   "execution_count": 88,
   "id": "b373546b-4484-4e3b-a811-f78e97bea8d2",
   "metadata": {},
   "outputs": [
    {
     "name": "stderr",
     "output_type": "stream",
     "text": [
      "/tmp/ipykernel_47477/3574409089.py:44: DeprecationWarning: Treating MultiVector objects like a sequence is deprecated. To access the coefficients as a sequence, use the `.value` attribute.\n",
      "  val1_real = X_clifford_complex[k][0]\n"
     ]
    },
    {
     "data": {
      "text/html": [
       "<pre style=\"white-space:pre;overflow-x:auto;line-height:normal;font-family:Menlo,'DejaVu Sans Mono',consolas,'Courier New',monospace\">X_clifford_complex_real : <span style=\"color: #008080; text-decoration-color: #008080; font-weight: bold\">24.909300736000002</span>\n",
       "</pre>\n"
      ],
      "text/plain": [
       "X_clifford_complex_real : \u001b[1;36m24.909300736000002\u001b[0m\n"
      ]
     },
     "metadata": {},
     "output_type": "display_data"
    },
    {
     "data": {
      "text/html": [
       "<pre style=\"white-space:pre;overflow-x:auto;line-height:normal;font-family:Menlo,'DejaVu Sans Mono',consolas,'Courier New',monospace\">X_standard_real         : <span style=\"color: #008080; text-decoration-color: #008080; font-weight: bold\">24.909300735999995</span>\n",
       "</pre>\n"
      ],
      "text/plain": [
       "X_standard_real         : \u001b[1;36m24.909300735999995\u001b[0m\n"
      ]
     },
     "metadata": {},
     "output_type": "display_data"
    },
    {
     "data": {
      "text/html": [
       "<pre style=\"white-space:pre;overflow-x:auto;line-height:normal;font-family:Menlo,'DejaVu Sans Mono',consolas,'Courier New',monospace\">X_clifford_complex_imag : <span style=\"color: #008080; text-decoration-color: #008080; font-weight: bold\">0.0</span>\n",
       "</pre>\n"
      ],
      "text/plain": [
       "X_clifford_complex_imag : \u001b[1;36m0.0\u001b[0m\n"
      ]
     },
     "metadata": {},
     "output_type": "display_data"
    },
    {
     "data": {
      "text/html": [
       "<pre style=\"white-space:pre;overflow-x:auto;line-height:normal;font-family:Menlo,'DejaVu Sans Mono',consolas,'Courier New',monospace\">X_standard_imag         : <span style=\"color: #008080; text-decoration-color: #008080; font-weight: bold\">0.0</span>\n",
       "</pre>\n"
      ],
      "text/plain": [
       "X_standard_imag         : \u001b[1;36m0.0\u001b[0m\n"
      ]
     },
     "metadata": {},
     "output_type": "display_data"
    },
    {
     "data": {
      "text/html": [
       "<pre style=\"white-space:pre;overflow-x:auto;line-height:normal;font-family:Menlo,'DejaVu Sans Mono',consolas,'Courier New',monospace\">diff1: <span style=\"color: #008080; text-decoration-color: #008080; font-weight: bold\">-7.105427357601002e-15</span>\n",
       "</pre>\n"
      ],
      "text/plain": [
       "diff1: \u001b[1;36m-7.105427357601002e-15\u001b[0m\n"
      ]
     },
     "metadata": {},
     "output_type": "display_data"
    },
    {
     "data": {
      "text/html": [
       "<pre style=\"white-space:pre;overflow-x:auto;line-height:normal;font-family:Menlo,'DejaVu Sans Mono',consolas,'Courier New',monospace\">diff2: <span style=\"color: #008080; text-decoration-color: #008080; font-weight: bold\">0.0</span>\n",
       "</pre>\n"
      ],
      "text/plain": [
       "diff2: \u001b[1;36m0.0\u001b[0m\n"
      ]
     },
     "metadata": {},
     "output_type": "display_data"
    },
    {
     "data": {
      "text/html": [
       "<pre style=\"white-space:pre;overflow-x:auto;line-height:normal;font-family:Menlo,'DejaVu Sans Mono',consolas,'Courier New',monospace\">comparing: <span style=\"color: #00ff00; text-decoration-color: #00ff00; font-style: italic\">True</span>\n",
       "</pre>\n"
      ],
      "text/plain": [
       "comparing: \u001b[3;92mTrue\u001b[0m\n"
      ]
     },
     "metadata": {},
     "output_type": "display_data"
    },
    {
     "data": {
      "text/html": [
       "<pre style=\"white-space:pre;overflow-x:auto;line-height:normal;font-family:Menlo,'DejaVu Sans Mono',consolas,'Courier New',monospace\">comparing: <span style=\"color: #00ff00; text-decoration-color: #00ff00; font-style: italic\">True</span>\n",
       "</pre>\n"
      ],
      "text/plain": [
       "comparing: \u001b[3;92mTrue\u001b[0m\n"
      ]
     },
     "metadata": {},
     "output_type": "display_data"
    },
    {
     "data": {
      "text/html": [
       "<pre style=\"white-space:pre;overflow-x:auto;line-height:normal;font-family:Menlo,'DejaVu Sans Mono',consolas,'Courier New',monospace\">X_clifford_complex_real : <span style=\"color: #008080; text-decoration-color: #008080; font-weight: bold\">14.078662027845935</span>\n",
       "</pre>\n"
      ],
      "text/plain": [
       "X_clifford_complex_real : \u001b[1;36m14.078662027845935\u001b[0m\n"
      ]
     },
     "metadata": {},
     "output_type": "display_data"
    },
    {
     "data": {
      "text/html": [
       "<pre style=\"white-space:pre;overflow-x:auto;line-height:normal;font-family:Menlo,'DejaVu Sans Mono',consolas,'Courier New',monospace\">X_standard_real         : <span style=\"color: #008080; text-decoration-color: #008080; font-weight: bold\">14.078662027845933</span>\n",
       "</pre>\n"
      ],
      "text/plain": [
       "X_standard_real         : \u001b[1;36m14.078662027845933\u001b[0m\n"
      ]
     },
     "metadata": {},
     "output_type": "display_data"
    },
    {
     "data": {
      "text/html": [
       "<pre style=\"white-space:pre;overflow-x:auto;line-height:normal;font-family:Menlo,'DejaVu Sans Mono',consolas,'Courier New',monospace\">X_clifford_complex_imag : <span style=\"color: #008080; text-decoration-color: #008080; font-weight: bold\">-9.221442009345065</span>\n",
       "</pre>\n"
      ],
      "text/plain": [
       "X_clifford_complex_imag : \u001b[1;36m-9.221442009345065\u001b[0m\n"
      ]
     },
     "metadata": {},
     "output_type": "display_data"
    },
    {
     "data": {
      "text/html": [
       "<pre style=\"white-space:pre;overflow-x:auto;line-height:normal;font-family:Menlo,'DejaVu Sans Mono',consolas,'Courier New',monospace\">X_standard_imag         : <span style=\"color: #008080; text-decoration-color: #008080; font-weight: bold\">-9.221442009345063</span>\n",
       "</pre>\n"
      ],
      "text/plain": [
       "X_standard_imag         : \u001b[1;36m-9.221442009345063\u001b[0m\n"
      ]
     },
     "metadata": {},
     "output_type": "display_data"
    },
    {
     "data": {
      "text/html": [
       "<pre style=\"white-space:pre;overflow-x:auto;line-height:normal;font-family:Menlo,'DejaVu Sans Mono',consolas,'Courier New',monospace\">diff1: <span style=\"color: #008080; text-decoration-color: #008080; font-weight: bold\">-1.7763568394002505e-15</span>\n",
       "</pre>\n"
      ],
      "text/plain": [
       "diff1: \u001b[1;36m-1.7763568394002505e-15\u001b[0m\n"
      ]
     },
     "metadata": {},
     "output_type": "display_data"
    },
    {
     "data": {
      "text/html": [
       "<pre style=\"white-space:pre;overflow-x:auto;line-height:normal;font-family:Menlo,'DejaVu Sans Mono',consolas,'Courier New',monospace\">diff2: <span style=\"color: #008080; text-decoration-color: #008080; font-weight: bold\">1.7763568394002505e-15</span>\n",
       "</pre>\n"
      ],
      "text/plain": [
       "diff2: \u001b[1;36m1.7763568394002505e-15\u001b[0m\n"
      ]
     },
     "metadata": {},
     "output_type": "display_data"
    },
    {
     "data": {
      "text/html": [
       "<pre style=\"white-space:pre;overflow-x:auto;line-height:normal;font-family:Menlo,'DejaVu Sans Mono',consolas,'Courier New',monospace\">comparing: <span style=\"color: #00ff00; text-decoration-color: #00ff00; font-style: italic\">True</span>\n",
       "</pre>\n"
      ],
      "text/plain": [
       "comparing: \u001b[3;92mTrue\u001b[0m\n"
      ]
     },
     "metadata": {},
     "output_type": "display_data"
    },
    {
     "data": {
      "text/html": [
       "<pre style=\"white-space:pre;overflow-x:auto;line-height:normal;font-family:Menlo,'DejaVu Sans Mono',consolas,'Courier New',monospace\">comparing: <span style=\"color: #00ff00; text-decoration-color: #00ff00; font-style: italic\">True</span>\n",
       "</pre>\n"
      ],
      "text/plain": [
       "comparing: \u001b[3;92mTrue\u001b[0m\n"
      ]
     },
     "metadata": {},
     "output_type": "display_data"
    },
    {
     "data": {
      "text/html": [
       "<pre style=\"white-space:pre;overflow-x:auto;line-height:normal;font-family:Menlo,'DejaVu Sans Mono',consolas,'Courier New',monospace\">X_clifford_complex_real : <span style=\"color: #008080; text-decoration-color: #008080; font-weight: bold\">8.682827239500961</span>\n",
       "</pre>\n"
      ],
      "text/plain": [
       "X_clifford_complex_real : \u001b[1;36m8.682827239500961\u001b[0m\n"
      ]
     },
     "metadata": {},
     "output_type": "display_data"
    },
    {
     "data": {
      "text/html": [
       "<pre style=\"white-space:pre;overflow-x:auto;line-height:normal;font-family:Menlo,'DejaVu Sans Mono',consolas,'Courier New',monospace\">X_standard_real         : <span style=\"color: #008080; text-decoration-color: #008080; font-weight: bold\">8.682827239500963</span>\n",
       "</pre>\n"
      ],
      "text/plain": [
       "X_standard_real         : \u001b[1;36m8.682827239500963\u001b[0m\n"
      ]
     },
     "metadata": {},
     "output_type": "display_data"
    },
    {
     "data": {
      "text/html": [
       "<pre style=\"white-space:pre;overflow-x:auto;line-height:normal;font-family:Menlo,'DejaVu Sans Mono',consolas,'Courier New',monospace\">X_clifford_complex_imag : <span style=\"color: #008080; text-decoration-color: #008080; font-weight: bold\">-6.312221401708381</span>\n",
       "</pre>\n"
      ],
      "text/plain": [
       "X_clifford_complex_imag : \u001b[1;36m-6.312221401708381\u001b[0m\n"
      ]
     },
     "metadata": {},
     "output_type": "display_data"
    },
    {
     "data": {
      "text/html": [
       "<pre style=\"white-space:pre;overflow-x:auto;line-height:normal;font-family:Menlo,'DejaVu Sans Mono',consolas,'Courier New',monospace\">X_standard_imag         : <span style=\"color: #008080; text-decoration-color: #008080; font-weight: bold\">-6.3122214017083795</span>\n",
       "</pre>\n"
      ],
      "text/plain": [
       "X_standard_imag         : \u001b[1;36m-6.3122214017083795\u001b[0m\n"
      ]
     },
     "metadata": {},
     "output_type": "display_data"
    },
    {
     "data": {
      "text/html": [
       "<pre style=\"white-space:pre;overflow-x:auto;line-height:normal;font-family:Menlo,'DejaVu Sans Mono',consolas,'Courier New',monospace\">diff1: <span style=\"color: #008080; text-decoration-color: #008080; font-weight: bold\">1.7763568394002505e-15</span>\n",
       "</pre>\n"
      ],
      "text/plain": [
       "diff1: \u001b[1;36m1.7763568394002505e-15\u001b[0m\n"
      ]
     },
     "metadata": {},
     "output_type": "display_data"
    },
    {
     "data": {
      "text/html": [
       "<pre style=\"white-space:pre;overflow-x:auto;line-height:normal;font-family:Menlo,'DejaVu Sans Mono',consolas,'Courier New',monospace\">diff2: <span style=\"color: #008080; text-decoration-color: #008080; font-weight: bold\">1.7763568394002505e-15</span>\n",
       "</pre>\n"
      ],
      "text/plain": [
       "diff2: \u001b[1;36m1.7763568394002505e-15\u001b[0m\n"
      ]
     },
     "metadata": {},
     "output_type": "display_data"
    },
    {
     "data": {
      "text/html": [
       "<pre style=\"white-space:pre;overflow-x:auto;line-height:normal;font-family:Menlo,'DejaVu Sans Mono',consolas,'Courier New',monospace\">comparing: <span style=\"color: #00ff00; text-decoration-color: #00ff00; font-style: italic\">True</span>\n",
       "</pre>\n"
      ],
      "text/plain": [
       "comparing: \u001b[3;92mTrue\u001b[0m\n"
      ]
     },
     "metadata": {},
     "output_type": "display_data"
    },
    {
     "data": {
      "text/html": [
       "<pre style=\"white-space:pre;overflow-x:auto;line-height:normal;font-family:Menlo,'DejaVu Sans Mono',consolas,'Courier New',monospace\">comparing: <span style=\"color: #00ff00; text-decoration-color: #00ff00; font-style: italic\">True</span>\n",
       "</pre>\n"
      ],
      "text/plain": [
       "comparing: \u001b[3;92mTrue\u001b[0m\n"
      ]
     },
     "metadata": {},
     "output_type": "display_data"
    },
    {
     "data": {
      "text/html": [
       "<pre style=\"white-space:pre;overflow-x:auto;line-height:normal;font-family:Menlo,'DejaVu Sans Mono',consolas,'Courier New',monospace\">X_clifford_complex_real : <span style=\"color: #008080; text-decoration-color: #008080; font-weight: bold\">7.064716641369794</span>\n",
       "</pre>\n"
      ],
      "text/plain": [
       "X_clifford_complex_real : \u001b[1;36m7.064716641369794\u001b[0m\n"
      ]
     },
     "metadata": {},
     "output_type": "display_data"
    },
    {
     "data": {
      "text/html": [
       "<pre style=\"white-space:pre;overflow-x:auto;line-height:normal;font-family:Menlo,'DejaVu Sans Mono',consolas,'Courier New',monospace\">X_standard_real         : <span style=\"color: #008080; text-decoration-color: #008080; font-weight: bold\">7.064716641369792</span>\n",
       "</pre>\n"
      ],
      "text/plain": [
       "X_standard_real         : \u001b[1;36m7.064716641369792\u001b[0m\n"
      ]
     },
     "metadata": {},
     "output_type": "display_data"
    },
    {
     "data": {
      "text/html": [
       "<pre style=\"white-space:pre;overflow-x:auto;line-height:normal;font-family:Menlo,'DejaVu Sans Mono',consolas,'Courier New',monospace\">X_clifford_complex_imag : <span style=\"color: #008080; text-decoration-color: #008080; font-weight: bold\">-3.865605034294143</span>\n",
       "</pre>\n"
      ],
      "text/plain": [
       "X_clifford_complex_imag : \u001b[1;36m-3.865605034294143\u001b[0m\n"
      ]
     },
     "metadata": {},
     "output_type": "display_data"
    },
    {
     "data": {
      "text/html": [
       "<pre style=\"white-space:pre;overflow-x:auto;line-height:normal;font-family:Menlo,'DejaVu Sans Mono',consolas,'Courier New',monospace\">X_standard_imag         : <span style=\"color: #008080; text-decoration-color: #008080; font-weight: bold\">-3.8656050342941395</span>\n",
       "</pre>\n"
      ],
      "text/plain": [
       "X_standard_imag         : \u001b[1;36m-3.8656050342941395\u001b[0m\n"
      ]
     },
     "metadata": {},
     "output_type": "display_data"
    },
    {
     "data": {
      "text/html": [
       "<pre style=\"white-space:pre;overflow-x:auto;line-height:normal;font-family:Menlo,'DejaVu Sans Mono',consolas,'Courier New',monospace\">diff1: <span style=\"color: #008080; text-decoration-color: #008080; font-weight: bold\">-2.6645352591003757e-15</span>\n",
       "</pre>\n"
      ],
      "text/plain": [
       "diff1: \u001b[1;36m-2.6645352591003757e-15\u001b[0m\n"
      ]
     },
     "metadata": {},
     "output_type": "display_data"
    },
    {
     "data": {
      "text/html": [
       "<pre style=\"white-space:pre;overflow-x:auto;line-height:normal;font-family:Menlo,'DejaVu Sans Mono',consolas,'Courier New',monospace\">diff2: <span style=\"color: #008080; text-decoration-color: #008080; font-weight: bold\">3.552713678800501e-15</span>\n",
       "</pre>\n"
      ],
      "text/plain": [
       "diff2: \u001b[1;36m3.552713678800501e-15\u001b[0m\n"
      ]
     },
     "metadata": {},
     "output_type": "display_data"
    },
    {
     "data": {
      "text/html": [
       "<pre style=\"white-space:pre;overflow-x:auto;line-height:normal;font-family:Menlo,'DejaVu Sans Mono',consolas,'Courier New',monospace\">comparing: <span style=\"color: #00ff00; text-decoration-color: #00ff00; font-style: italic\">True</span>\n",
       "</pre>\n"
      ],
      "text/plain": [
       "comparing: \u001b[3;92mTrue\u001b[0m\n"
      ]
     },
     "metadata": {},
     "output_type": "display_data"
    },
    {
     "data": {
      "text/html": [
       "<pre style=\"white-space:pre;overflow-x:auto;line-height:normal;font-family:Menlo,'DejaVu Sans Mono',consolas,'Courier New',monospace\">comparing: <span style=\"color: #00ff00; text-decoration-color: #00ff00; font-style: italic\">True</span>\n",
       "</pre>\n"
      ],
      "text/plain": [
       "comparing: \u001b[3;92mTrue\u001b[0m\n"
      ]
     },
     "metadata": {},
     "output_type": "display_data"
    },
    {
     "data": {
      "text/html": [
       "<pre style=\"white-space:pre;overflow-x:auto;line-height:normal;font-family:Menlo,'DejaVu Sans Mono',consolas,'Courier New',monospace\">X_clifford_complex_real : <span style=\"color: #008080; text-decoration-color: #008080; font-weight: bold\">6.4677123413917865</span>\n",
       "</pre>\n"
      ],
      "text/plain": [
       "X_clifford_complex_real : \u001b[1;36m6.4677123413917865\u001b[0m\n"
      ]
     },
     "metadata": {},
     "output_type": "display_data"
    },
    {
     "data": {
      "text/html": [
       "<pre style=\"white-space:pre;overflow-x:auto;line-height:normal;font-family:Menlo,'DejaVu Sans Mono',consolas,'Courier New',monospace\">X_standard_real         : <span style=\"color: #008080; text-decoration-color: #008080; font-weight: bold\">6.467712341391784</span>\n",
       "</pre>\n"
      ],
      "text/plain": [
       "X_standard_real         : \u001b[1;36m6.467712341391784\u001b[0m\n"
      ]
     },
     "metadata": {},
     "output_type": "display_data"
    },
    {
     "data": {
      "text/html": [
       "<pre style=\"white-space:pre;overflow-x:auto;line-height:normal;font-family:Menlo,'DejaVu Sans Mono',consolas,'Courier New',monospace\">X_clifford_complex_imag : <span style=\"color: #008080; text-decoration-color: #008080; font-weight: bold\">-2.1054978062133403</span>\n",
       "</pre>\n"
      ],
      "text/plain": [
       "X_clifford_complex_imag : \u001b[1;36m-2.1054978062133403\u001b[0m\n"
      ]
     },
     "metadata": {},
     "output_type": "display_data"
    },
    {
     "data": {
      "text/html": [
       "<pre style=\"white-space:pre;overflow-x:auto;line-height:normal;font-family:Menlo,'DejaVu Sans Mono',consolas,'Courier New',monospace\">X_standard_imag         : <span style=\"color: #008080; text-decoration-color: #008080; font-weight: bold\">-2.105497806213341</span>\n",
       "</pre>\n"
      ],
      "text/plain": [
       "X_standard_imag         : \u001b[1;36m-2.105497806213341\u001b[0m\n"
      ]
     },
     "metadata": {},
     "output_type": "display_data"
    },
    {
     "data": {
      "text/html": [
       "<pre style=\"white-space:pre;overflow-x:auto;line-height:normal;font-family:Menlo,'DejaVu Sans Mono',consolas,'Courier New',monospace\">diff1: <span style=\"color: #008080; text-decoration-color: #008080; font-weight: bold\">-2.6645352591003757e-15</span>\n",
       "</pre>\n"
      ],
      "text/plain": [
       "diff1: \u001b[1;36m-2.6645352591003757e-15\u001b[0m\n"
      ]
     },
     "metadata": {},
     "output_type": "display_data"
    },
    {
     "data": {
      "text/html": [
       "<pre style=\"white-space:pre;overflow-x:auto;line-height:normal;font-family:Menlo,'DejaVu Sans Mono',consolas,'Courier New',monospace\">diff2: <span style=\"color: #008080; text-decoration-color: #008080; font-weight: bold\">-8.881784197001252e-16</span>\n",
       "</pre>\n"
      ],
      "text/plain": [
       "diff2: \u001b[1;36m-8.881784197001252e-16\u001b[0m\n"
      ]
     },
     "metadata": {},
     "output_type": "display_data"
    },
    {
     "data": {
      "text/html": [
       "<pre style=\"white-space:pre;overflow-x:auto;line-height:normal;font-family:Menlo,'DejaVu Sans Mono',consolas,'Courier New',monospace\">comparing: <span style=\"color: #00ff00; text-decoration-color: #00ff00; font-style: italic\">True</span>\n",
       "</pre>\n"
      ],
      "text/plain": [
       "comparing: \u001b[3;92mTrue\u001b[0m\n"
      ]
     },
     "metadata": {},
     "output_type": "display_data"
    },
    {
     "data": {
      "text/html": [
       "<pre style=\"white-space:pre;overflow-x:auto;line-height:normal;font-family:Menlo,'DejaVu Sans Mono',consolas,'Courier New',monospace\">comparing: <span style=\"color: #00ff00; text-decoration-color: #00ff00; font-style: italic\">True</span>\n",
       "</pre>\n"
      ],
      "text/plain": [
       "comparing: \u001b[3;92mTrue\u001b[0m\n"
      ]
     },
     "metadata": {},
     "output_type": "display_data"
    },
    {
     "data": {
      "text/html": [
       "<pre style=\"white-space:pre;overflow-x:auto;line-height:normal;font-family:Menlo,'DejaVu Sans Mono',consolas,'Courier New',monospace\">X_clifford_complex_real : <span style=\"color: #008080; text-decoration-color: #008080; font-weight: bold\">6.251431381891529</span>\n",
       "</pre>\n"
      ],
      "text/plain": [
       "X_clifford_complex_real : \u001b[1;36m6.251431381891529\u001b[0m\n"
      ]
     },
     "metadata": {},
     "output_type": "display_data"
    },
    {
     "data": {
      "text/html": [
       "<pre style=\"white-space:pre;overflow-x:auto;line-height:normal;font-family:Menlo,'DejaVu Sans Mono',consolas,'Courier New',monospace\">X_standard_real         : <span style=\"color: #008080; text-decoration-color: #008080; font-weight: bold\">6.251431381891527</span>\n",
       "</pre>\n"
      ],
      "text/plain": [
       "X_standard_real         : \u001b[1;36m6.251431381891527\u001b[0m\n"
      ]
     },
     "metadata": {},
     "output_type": "display_data"
    },
    {
     "data": {
      "text/html": [
       "<pre style=\"white-space:pre;overflow-x:auto;line-height:normal;font-family:Menlo,'DejaVu Sans Mono',consolas,'Courier New',monospace\">X_clifford_complex_imag : <span style=\"color: #008080; text-decoration-color: #008080; font-weight: bold\">-0.6706491563287054</span>\n",
       "</pre>\n"
      ],
      "text/plain": [
       "X_clifford_complex_imag : \u001b[1;36m-0.6706491563287054\u001b[0m\n"
      ]
     },
     "metadata": {},
     "output_type": "display_data"
    },
    {
     "data": {
      "text/html": [
       "<pre style=\"white-space:pre;overflow-x:auto;line-height:normal;font-family:Menlo,'DejaVu Sans Mono',consolas,'Courier New',monospace\">X_standard_imag         : <span style=\"color: #008080; text-decoration-color: #008080; font-weight: bold\">-0.6706491563287028</span>\n",
       "</pre>\n"
      ],
      "text/plain": [
       "X_standard_imag         : \u001b[1;36m-0.6706491563287028\u001b[0m\n"
      ]
     },
     "metadata": {},
     "output_type": "display_data"
    },
    {
     "data": {
      "text/html": [
       "<pre style=\"white-space:pre;overflow-x:auto;line-height:normal;font-family:Menlo,'DejaVu Sans Mono',consolas,'Courier New',monospace\">diff1: <span style=\"color: #008080; text-decoration-color: #008080; font-weight: bold\">-2.6645352591003757e-15</span>\n",
       "</pre>\n"
      ],
      "text/plain": [
       "diff1: \u001b[1;36m-2.6645352591003757e-15\u001b[0m\n"
      ]
     },
     "metadata": {},
     "output_type": "display_data"
    },
    {
     "data": {
      "text/html": [
       "<pre style=\"white-space:pre;overflow-x:auto;line-height:normal;font-family:Menlo,'DejaVu Sans Mono',consolas,'Courier New',monospace\">diff2: <span style=\"color: #008080; text-decoration-color: #008080; font-weight: bold\">2.55351295663786e-15</span>\n",
       "</pre>\n"
      ],
      "text/plain": [
       "diff2: \u001b[1;36m2.55351295663786e-15\u001b[0m\n"
      ]
     },
     "metadata": {},
     "output_type": "display_data"
    },
    {
     "data": {
      "text/html": [
       "<pre style=\"white-space:pre;overflow-x:auto;line-height:normal;font-family:Menlo,'DejaVu Sans Mono',consolas,'Courier New',monospace\">comparing: <span style=\"color: #00ff00; text-decoration-color: #00ff00; font-style: italic\">True</span>\n",
       "</pre>\n"
      ],
      "text/plain": [
       "comparing: \u001b[3;92mTrue\u001b[0m\n"
      ]
     },
     "metadata": {},
     "output_type": "display_data"
    },
    {
     "data": {
      "text/html": [
       "<pre style=\"white-space:pre;overflow-x:auto;line-height:normal;font-family:Menlo,'DejaVu Sans Mono',consolas,'Courier New',monospace\">comparing: <span style=\"color: #00ff00; text-decoration-color: #00ff00; font-style: italic\">True</span>\n",
       "</pre>\n"
      ],
      "text/plain": [
       "comparing: \u001b[3;92mTrue\u001b[0m\n"
      ]
     },
     "metadata": {},
     "output_type": "display_data"
    },
    {
     "data": {
      "text/html": [
       "<pre style=\"white-space:pre;overflow-x:auto;line-height:normal;font-family:Menlo,'DejaVu Sans Mono',consolas,'Courier New',monospace\">X_clifford_complex_real : <span style=\"color: #008080; text-decoration-color: #008080; font-weight: bold\">6.251431381891527</span>\n",
       "</pre>\n"
      ],
      "text/plain": [
       "X_clifford_complex_real : \u001b[1;36m6.251431381891527\u001b[0m\n"
      ]
     },
     "metadata": {},
     "output_type": "display_data"
    },
    {
     "data": {
      "text/html": [
       "<pre style=\"white-space:pre;overflow-x:auto;line-height:normal;font-family:Menlo,'DejaVu Sans Mono',consolas,'Courier New',monospace\">X_standard_real         : <span style=\"color: #008080; text-decoration-color: #008080; font-weight: bold\">6.251431381891527</span>\n",
       "</pre>\n"
      ],
      "text/plain": [
       "X_standard_real         : \u001b[1;36m6.251431381891527\u001b[0m\n"
      ]
     },
     "metadata": {},
     "output_type": "display_data"
    },
    {
     "data": {
      "text/html": [
       "<pre style=\"white-space:pre;overflow-x:auto;line-height:normal;font-family:Menlo,'DejaVu Sans Mono',consolas,'Courier New',monospace\">X_clifford_complex_imag : <span style=\"color: #008080; text-decoration-color: #008080; font-weight: bold\">0.6706491563287013</span>\n",
       "</pre>\n"
      ],
      "text/plain": [
       "X_clifford_complex_imag : \u001b[1;36m0.6706491563287013\u001b[0m\n"
      ]
     },
     "metadata": {},
     "output_type": "display_data"
    },
    {
     "data": {
      "text/html": [
       "<pre style=\"white-space:pre;overflow-x:auto;line-height:normal;font-family:Menlo,'DejaVu Sans Mono',consolas,'Courier New',monospace\">X_standard_imag         : <span style=\"color: #008080; text-decoration-color: #008080; font-weight: bold\">0.6706491563287028</span>\n",
       "</pre>\n"
      ],
      "text/plain": [
       "X_standard_imag         : \u001b[1;36m0.6706491563287028\u001b[0m\n"
      ]
     },
     "metadata": {},
     "output_type": "display_data"
    },
    {
     "data": {
      "text/html": [
       "<pre style=\"white-space:pre;overflow-x:auto;line-height:normal;font-family:Menlo,'DejaVu Sans Mono',consolas,'Courier New',monospace\">diff1: <span style=\"color: #008080; text-decoration-color: #008080; font-weight: bold\">0.0</span>\n",
       "</pre>\n"
      ],
      "text/plain": [
       "diff1: \u001b[1;36m0.0\u001b[0m\n"
      ]
     },
     "metadata": {},
     "output_type": "display_data"
    },
    {
     "data": {
      "text/html": [
       "<pre style=\"white-space:pre;overflow-x:auto;line-height:normal;font-family:Menlo,'DejaVu Sans Mono',consolas,'Courier New',monospace\">diff2: <span style=\"color: #008080; text-decoration-color: #008080; font-weight: bold\">1.5543122344752192e-15</span>\n",
       "</pre>\n"
      ],
      "text/plain": [
       "diff2: \u001b[1;36m1.5543122344752192e-15\u001b[0m\n"
      ]
     },
     "metadata": {},
     "output_type": "display_data"
    },
    {
     "data": {
      "text/html": [
       "<pre style=\"white-space:pre;overflow-x:auto;line-height:normal;font-family:Menlo,'DejaVu Sans Mono',consolas,'Courier New',monospace\">comparing: <span style=\"color: #00ff00; text-decoration-color: #00ff00; font-style: italic\">True</span>\n",
       "</pre>\n"
      ],
      "text/plain": [
       "comparing: \u001b[3;92mTrue\u001b[0m\n"
      ]
     },
     "metadata": {},
     "output_type": "display_data"
    },
    {
     "data": {
      "text/html": [
       "<pre style=\"white-space:pre;overflow-x:auto;line-height:normal;font-family:Menlo,'DejaVu Sans Mono',consolas,'Courier New',monospace\">comparing: <span style=\"color: #00ff00; text-decoration-color: #00ff00; font-style: italic\">True</span>\n",
       "</pre>\n"
      ],
      "text/plain": [
       "comparing: \u001b[3;92mTrue\u001b[0m\n"
      ]
     },
     "metadata": {},
     "output_type": "display_data"
    },
    {
     "data": {
      "text/html": [
       "<pre style=\"white-space:pre;overflow-x:auto;line-height:normal;font-family:Menlo,'DejaVu Sans Mono',consolas,'Courier New',monospace\">X_clifford_complex_real : <span style=\"color: #008080; text-decoration-color: #008080; font-weight: bold\">6.4677123413917865</span>\n",
       "</pre>\n"
      ],
      "text/plain": [
       "X_clifford_complex_real : \u001b[1;36m6.4677123413917865\u001b[0m\n"
      ]
     },
     "metadata": {},
     "output_type": "display_data"
    },
    {
     "data": {
      "text/html": [
       "<pre style=\"white-space:pre;overflow-x:auto;line-height:normal;font-family:Menlo,'DejaVu Sans Mono',consolas,'Courier New',monospace\">X_standard_real         : <span style=\"color: #008080; text-decoration-color: #008080; font-weight: bold\">6.467712341391784</span>\n",
       "</pre>\n"
      ],
      "text/plain": [
       "X_standard_real         : \u001b[1;36m6.467712341391784\u001b[0m\n"
      ]
     },
     "metadata": {},
     "output_type": "display_data"
    },
    {
     "data": {
      "text/html": [
       "<pre style=\"white-space:pre;overflow-x:auto;line-height:normal;font-family:Menlo,'DejaVu Sans Mono',consolas,'Courier New',monospace\">X_clifford_complex_imag : <span style=\"color: #008080; text-decoration-color: #008080; font-weight: bold\">2.105497806213339</span>\n",
       "</pre>\n"
      ],
      "text/plain": [
       "X_clifford_complex_imag : \u001b[1;36m2.105497806213339\u001b[0m\n"
      ]
     },
     "metadata": {},
     "output_type": "display_data"
    },
    {
     "data": {
      "text/html": [
       "<pre style=\"white-space:pre;overflow-x:auto;line-height:normal;font-family:Menlo,'DejaVu Sans Mono',consolas,'Courier New',monospace\">X_standard_imag         : <span style=\"color: #008080; text-decoration-color: #008080; font-weight: bold\">2.105497806213341</span>\n",
       "</pre>\n"
      ],
      "text/plain": [
       "X_standard_imag         : \u001b[1;36m2.105497806213341\u001b[0m\n"
      ]
     },
     "metadata": {},
     "output_type": "display_data"
    },
    {
     "data": {
      "text/html": [
       "<pre style=\"white-space:pre;overflow-x:auto;line-height:normal;font-family:Menlo,'DejaVu Sans Mono',consolas,'Courier New',monospace\">diff1: <span style=\"color: #008080; text-decoration-color: #008080; font-weight: bold\">-2.6645352591003757e-15</span>\n",
       "</pre>\n"
      ],
      "text/plain": [
       "diff1: \u001b[1;36m-2.6645352591003757e-15\u001b[0m\n"
      ]
     },
     "metadata": {},
     "output_type": "display_data"
    },
    {
     "data": {
      "text/html": [
       "<pre style=\"white-space:pre;overflow-x:auto;line-height:normal;font-family:Menlo,'DejaVu Sans Mono',consolas,'Courier New',monospace\">diff2: <span style=\"color: #008080; text-decoration-color: #008080; font-weight: bold\">2.220446049250313e-15</span>\n",
       "</pre>\n"
      ],
      "text/plain": [
       "diff2: \u001b[1;36m2.220446049250313e-15\u001b[0m\n"
      ]
     },
     "metadata": {},
     "output_type": "display_data"
    },
    {
     "data": {
      "text/html": [
       "<pre style=\"white-space:pre;overflow-x:auto;line-height:normal;font-family:Menlo,'DejaVu Sans Mono',consolas,'Courier New',monospace\">comparing: <span style=\"color: #00ff00; text-decoration-color: #00ff00; font-style: italic\">True</span>\n",
       "</pre>\n"
      ],
      "text/plain": [
       "comparing: \u001b[3;92mTrue\u001b[0m\n"
      ]
     },
     "metadata": {},
     "output_type": "display_data"
    },
    {
     "data": {
      "text/html": [
       "<pre style=\"white-space:pre;overflow-x:auto;line-height:normal;font-family:Menlo,'DejaVu Sans Mono',consolas,'Courier New',monospace\">comparing: <span style=\"color: #00ff00; text-decoration-color: #00ff00; font-style: italic\">True</span>\n",
       "</pre>\n"
      ],
      "text/plain": [
       "comparing: \u001b[3;92mTrue\u001b[0m\n"
      ]
     },
     "metadata": {},
     "output_type": "display_data"
    },
    {
     "data": {
      "text/html": [
       "<pre style=\"white-space:pre;overflow-x:auto;line-height:normal;font-family:Menlo,'DejaVu Sans Mono',consolas,'Courier New',monospace\">X_clifford_complex_real : <span style=\"color: #008080; text-decoration-color: #008080; font-weight: bold\">7.0647166413697935</span>\n",
       "</pre>\n"
      ],
      "text/plain": [
       "X_clifford_complex_real : \u001b[1;36m7.0647166413697935\u001b[0m\n"
      ]
     },
     "metadata": {},
     "output_type": "display_data"
    },
    {
     "data": {
      "text/html": [
       "<pre style=\"white-space:pre;overflow-x:auto;line-height:normal;font-family:Menlo,'DejaVu Sans Mono',consolas,'Courier New',monospace\">X_standard_real         : <span style=\"color: #008080; text-decoration-color: #008080; font-weight: bold\">7.064716641369792</span>\n",
       "</pre>\n"
      ],
      "text/plain": [
       "X_standard_real         : \u001b[1;36m7.064716641369792\u001b[0m\n"
      ]
     },
     "metadata": {},
     "output_type": "display_data"
    },
    {
     "data": {
      "text/html": [
       "<pre style=\"white-space:pre;overflow-x:auto;line-height:normal;font-family:Menlo,'DejaVu Sans Mono',consolas,'Courier New',monospace\">X_clifford_complex_imag : <span style=\"color: #008080; text-decoration-color: #008080; font-weight: bold\">3.8656050342941404</span>\n",
       "</pre>\n"
      ],
      "text/plain": [
       "X_clifford_complex_imag : \u001b[1;36m3.8656050342941404\u001b[0m\n"
      ]
     },
     "metadata": {},
     "output_type": "display_data"
    },
    {
     "data": {
      "text/html": [
       "<pre style=\"white-space:pre;overflow-x:auto;line-height:normal;font-family:Menlo,'DejaVu Sans Mono',consolas,'Courier New',monospace\">X_standard_imag         : <span style=\"color: #008080; text-decoration-color: #008080; font-weight: bold\">3.8656050342941395</span>\n",
       "</pre>\n"
      ],
      "text/plain": [
       "X_standard_imag         : \u001b[1;36m3.8656050342941395\u001b[0m\n"
      ]
     },
     "metadata": {},
     "output_type": "display_data"
    },
    {
     "data": {
      "text/html": [
       "<pre style=\"white-space:pre;overflow-x:auto;line-height:normal;font-family:Menlo,'DejaVu Sans Mono',consolas,'Courier New',monospace\">diff1: <span style=\"color: #008080; text-decoration-color: #008080; font-weight: bold\">-1.7763568394002505e-15</span>\n",
       "</pre>\n"
      ],
      "text/plain": [
       "diff1: \u001b[1;36m-1.7763568394002505e-15\u001b[0m\n"
      ]
     },
     "metadata": {},
     "output_type": "display_data"
    },
    {
     "data": {
      "text/html": [
       "<pre style=\"white-space:pre;overflow-x:auto;line-height:normal;font-family:Menlo,'DejaVu Sans Mono',consolas,'Courier New',monospace\">diff2: <span style=\"color: #008080; text-decoration-color: #008080; font-weight: bold\">-8.881784197001252e-16</span>\n",
       "</pre>\n"
      ],
      "text/plain": [
       "diff2: \u001b[1;36m-8.881784197001252e-16\u001b[0m\n"
      ]
     },
     "metadata": {},
     "output_type": "display_data"
    },
    {
     "data": {
      "text/html": [
       "<pre style=\"white-space:pre;overflow-x:auto;line-height:normal;font-family:Menlo,'DejaVu Sans Mono',consolas,'Courier New',monospace\">comparing: <span style=\"color: #00ff00; text-decoration-color: #00ff00; font-style: italic\">True</span>\n",
       "</pre>\n"
      ],
      "text/plain": [
       "comparing: \u001b[3;92mTrue\u001b[0m\n"
      ]
     },
     "metadata": {},
     "output_type": "display_data"
    },
    {
     "data": {
      "text/html": [
       "<pre style=\"white-space:pre;overflow-x:auto;line-height:normal;font-family:Menlo,'DejaVu Sans Mono',consolas,'Courier New',monospace\">comparing: <span style=\"color: #00ff00; text-decoration-color: #00ff00; font-style: italic\">True</span>\n",
       "</pre>\n"
      ],
      "text/plain": [
       "comparing: \u001b[3;92mTrue\u001b[0m\n"
      ]
     },
     "metadata": {},
     "output_type": "display_data"
    },
    {
     "data": {
      "text/html": [
       "<pre style=\"white-space:pre;overflow-x:auto;line-height:normal;font-family:Menlo,'DejaVu Sans Mono',consolas,'Courier New',monospace\">X_clifford_complex_real : <span style=\"color: #008080; text-decoration-color: #008080; font-weight: bold\">8.682827239500961</span>\n",
       "</pre>\n"
      ],
      "text/plain": [
       "X_clifford_complex_real : \u001b[1;36m8.682827239500961\u001b[0m\n"
      ]
     },
     "metadata": {},
     "output_type": "display_data"
    },
    {
     "data": {
      "text/html": [
       "<pre style=\"white-space:pre;overflow-x:auto;line-height:normal;font-family:Menlo,'DejaVu Sans Mono',consolas,'Courier New',monospace\">X_standard_real         : <span style=\"color: #008080; text-decoration-color: #008080; font-weight: bold\">8.682827239500963</span>\n",
       "</pre>\n"
      ],
      "text/plain": [
       "X_standard_real         : \u001b[1;36m8.682827239500963\u001b[0m\n"
      ]
     },
     "metadata": {},
     "output_type": "display_data"
    },
    {
     "data": {
      "text/html": [
       "<pre style=\"white-space:pre;overflow-x:auto;line-height:normal;font-family:Menlo,'DejaVu Sans Mono',consolas,'Courier New',monospace\">X_clifford_complex_imag : <span style=\"color: #008080; text-decoration-color: #008080; font-weight: bold\">6.312221401708376</span>\n",
       "</pre>\n"
      ],
      "text/plain": [
       "X_clifford_complex_imag : \u001b[1;36m6.312221401708376\u001b[0m\n"
      ]
     },
     "metadata": {},
     "output_type": "display_data"
    },
    {
     "data": {
      "text/html": [
       "<pre style=\"white-space:pre;overflow-x:auto;line-height:normal;font-family:Menlo,'DejaVu Sans Mono',consolas,'Courier New',monospace\">X_standard_imag         : <span style=\"color: #008080; text-decoration-color: #008080; font-weight: bold\">6.3122214017083795</span>\n",
       "</pre>\n"
      ],
      "text/plain": [
       "X_standard_imag         : \u001b[1;36m6.3122214017083795\u001b[0m\n"
      ]
     },
     "metadata": {},
     "output_type": "display_data"
    },
    {
     "data": {
      "text/html": [
       "<pre style=\"white-space:pre;overflow-x:auto;line-height:normal;font-family:Menlo,'DejaVu Sans Mono',consolas,'Courier New',monospace\">diff1: <span style=\"color: #008080; text-decoration-color: #008080; font-weight: bold\">1.7763568394002505e-15</span>\n",
       "</pre>\n"
      ],
      "text/plain": [
       "diff1: \u001b[1;36m1.7763568394002505e-15\u001b[0m\n"
      ]
     },
     "metadata": {},
     "output_type": "display_data"
    },
    {
     "data": {
      "text/html": [
       "<pre style=\"white-space:pre;overflow-x:auto;line-height:normal;font-family:Menlo,'DejaVu Sans Mono',consolas,'Courier New',monospace\">diff2: <span style=\"color: #008080; text-decoration-color: #008080; font-weight: bold\">3.552713678800501e-15</span>\n",
       "</pre>\n"
      ],
      "text/plain": [
       "diff2: \u001b[1;36m3.552713678800501e-15\u001b[0m\n"
      ]
     },
     "metadata": {},
     "output_type": "display_data"
    },
    {
     "data": {
      "text/html": [
       "<pre style=\"white-space:pre;overflow-x:auto;line-height:normal;font-family:Menlo,'DejaVu Sans Mono',consolas,'Courier New',monospace\">comparing: <span style=\"color: #00ff00; text-decoration-color: #00ff00; font-style: italic\">True</span>\n",
       "</pre>\n"
      ],
      "text/plain": [
       "comparing: \u001b[3;92mTrue\u001b[0m\n"
      ]
     },
     "metadata": {},
     "output_type": "display_data"
    },
    {
     "data": {
      "text/html": [
       "<pre style=\"white-space:pre;overflow-x:auto;line-height:normal;font-family:Menlo,'DejaVu Sans Mono',consolas,'Courier New',monospace\">comparing: <span style=\"color: #00ff00; text-decoration-color: #00ff00; font-style: italic\">True</span>\n",
       "</pre>\n"
      ],
      "text/plain": [
       "comparing: \u001b[3;92mTrue\u001b[0m\n"
      ]
     },
     "metadata": {},
     "output_type": "display_data"
    },
    {
     "data": {
      "text/html": [
       "<pre style=\"white-space:pre;overflow-x:auto;line-height:normal;font-family:Menlo,'DejaVu Sans Mono',consolas,'Courier New',monospace\">X_clifford_complex_real : <span style=\"color: #008080; text-decoration-color: #008080; font-weight: bold\">14.078662027845928</span>\n",
       "</pre>\n"
      ],
      "text/plain": [
       "X_clifford_complex_real : \u001b[1;36m14.078662027845928\u001b[0m\n"
      ]
     },
     "metadata": {},
     "output_type": "display_data"
    },
    {
     "data": {
      "text/html": [
       "<pre style=\"white-space:pre;overflow-x:auto;line-height:normal;font-family:Menlo,'DejaVu Sans Mono',consolas,'Courier New',monospace\">X_standard_real         : <span style=\"color: #008080; text-decoration-color: #008080; font-weight: bold\">14.078662027845933</span>\n",
       "</pre>\n"
      ],
      "text/plain": [
       "X_standard_real         : \u001b[1;36m14.078662027845933\u001b[0m\n"
      ]
     },
     "metadata": {},
     "output_type": "display_data"
    },
    {
     "data": {
      "text/html": [
       "<pre style=\"white-space:pre;overflow-x:auto;line-height:normal;font-family:Menlo,'DejaVu Sans Mono',consolas,'Courier New',monospace\">X_clifford_complex_imag : <span style=\"color: #008080; text-decoration-color: #008080; font-weight: bold\">9.22144200934506</span>\n",
       "</pre>\n"
      ],
      "text/plain": [
       "X_clifford_complex_imag : \u001b[1;36m9.22144200934506\u001b[0m\n"
      ]
     },
     "metadata": {},
     "output_type": "display_data"
    },
    {
     "data": {
      "text/html": [
       "<pre style=\"white-space:pre;overflow-x:auto;line-height:normal;font-family:Menlo,'DejaVu Sans Mono',consolas,'Courier New',monospace\">X_standard_imag         : <span style=\"color: #008080; text-decoration-color: #008080; font-weight: bold\">9.221442009345063</span>\n",
       "</pre>\n"
      ],
      "text/plain": [
       "X_standard_imag         : \u001b[1;36m9.221442009345063\u001b[0m\n"
      ]
     },
     "metadata": {},
     "output_type": "display_data"
    },
    {
     "data": {
      "text/html": [
       "<pre style=\"white-space:pre;overflow-x:auto;line-height:normal;font-family:Menlo,'DejaVu Sans Mono',consolas,'Courier New',monospace\">diff1: <span style=\"color: #008080; text-decoration-color: #008080; font-weight: bold\">5.329070518200751e-15</span>\n",
       "</pre>\n"
      ],
      "text/plain": [
       "diff1: \u001b[1;36m5.329070518200751e-15\u001b[0m\n"
      ]
     },
     "metadata": {},
     "output_type": "display_data"
    },
    {
     "data": {
      "text/html": [
       "<pre style=\"white-space:pre;overflow-x:auto;line-height:normal;font-family:Menlo,'DejaVu Sans Mono',consolas,'Courier New',monospace\">diff2: <span style=\"color: #008080; text-decoration-color: #008080; font-weight: bold\">3.552713678800501e-15</span>\n",
       "</pre>\n"
      ],
      "text/plain": [
       "diff2: \u001b[1;36m3.552713678800501e-15\u001b[0m\n"
      ]
     },
     "metadata": {},
     "output_type": "display_data"
    },
    {
     "data": {
      "text/html": [
       "<pre style=\"white-space:pre;overflow-x:auto;line-height:normal;font-family:Menlo,'DejaVu Sans Mono',consolas,'Courier New',monospace\">comparing: <span style=\"color: #00ff00; text-decoration-color: #00ff00; font-style: italic\">True</span>\n",
       "</pre>\n"
      ],
      "text/plain": [
       "comparing: \u001b[3;92mTrue\u001b[0m\n"
      ]
     },
     "metadata": {},
     "output_type": "display_data"
    },
    {
     "data": {
      "text/html": [
       "<pre style=\"white-space:pre;overflow-x:auto;line-height:normal;font-family:Menlo,'DejaVu Sans Mono',consolas,'Courier New',monospace\">comparing: <span style=\"color: #00ff00; text-decoration-color: #00ff00; font-style: italic\">True</span>\n",
       "</pre>\n"
      ],
      "text/plain": [
       "comparing: \u001b[3;92mTrue\u001b[0m\n"
      ]
     },
     "metadata": {},
     "output_type": "display_data"
    }
   ],
   "source": [
    "# Import the library\n",
    "from clifford.g3 import *  # import GA for 3D space\n",
    "from math import e, pi\n",
    "from rich import print\n",
    "\n",
    "import numpy as np\n",
    "from numpy.fft import fft\n",
    "\n",
    "# prob1 from HW5 used this example sequence. using it for testing\n",
    "n_min = 0\n",
    "n_max = 10\n",
    "n = np.arange(n_min, n_max + 1)\n",
    "N = n_max+1\n",
    "\n",
    "x_n = 10 * (0.6)**n\n",
    "# Importing the layout and basic multivectors for 3D CGA (Conformal Geometric Algebra)\n",
    "layout, blades = g3c.Cl(3, 0, 1, firstIdx=0)\n",
    "\n",
    "# Create an array to hold the GA-based DFT using Cliffords\n",
    "X_clifford = np.zeros(len(n), dtype=object)\n",
    "\n",
    "# Compute the GA-based DFT manually\n",
    "# For this simple example, \n",
    "# I'll use the Clifford library's geometric product as a stand-in for complex multiplication\n",
    "for k in range(N):\n",
    "    for n_idx, n_val in enumerate(n):\n",
    "        angle = -2 * np.pi * k * n_val / N\n",
    "        basis_blade = np.cos(angle) + e1*e2*np.sin(angle)\n",
    "        X_clifford[k] += x_n[n_idx] * basis_blade\n",
    "\n",
    "# complex value array is the same since multivector contains it\n",
    "X_clifford_complex = X_clifford\n",
    "\n",
    "# compute the fft using standard methods\n",
    "X_standard = fft(x_n)\n",
    "\n",
    "# debugging prints \n",
    "# print(X_clifford_complex)\n",
    "# print(X_standard)\n",
    "# com_val = X_clifford_complex[2][e12]\n",
    "# print(com_val)\n",
    "\n",
    "# go through each of the above and exit if there is a disagreement between methods\n",
    "for k in range(0, len(X_standard)):\n",
    "    val1_real = X_clifford_complex[k][0]\n",
    "    val1_imag = X_clifford_complex[k][e12]\n",
    "    val2_real = np.real(X_standard[k])\n",
    "    val2_imag = np.imag(X_standard[k])\n",
    "    print(f\"X_clifford_complex_real : {val1_real}\")\n",
    "    print(f\"X_standard_real         : {val2_real}\")\n",
    "    print(f\"X_clifford_complex_imag : {val1_imag}\")\n",
    "    print(f\"X_standard_imag         : {val2_imag}\")\n",
    "    print(f\"diff1: {float(val2_real - val1_real)}\")\n",
    "    print(f\"diff2: {float(val2_imag - val1_imag)}\")\n",
    "    test_real = float(val2_real - val1_real) < 1e-9\n",
    "    test_imag = float(val2_imag - val1_imag) < 1e-9\n",
    "    print(f\"comparing: {test_real}\")\n",
    "    print(f\"comparing: {test_imag}\")\n",
    "    if not test_real:\n",
    "        print(f\"failure at test_real: {test_real}\\nval2 not close enough to val1\\n\")\n",
    "    if not test_imag:\n",
    "        print(f\"failure at test_imag: {test_real}\\nval2 not close enough to val1\\n\")\n",
    "\n"
   ]
  },
  {
   "cell_type": "code",
   "execution_count": null,
   "id": "ccac1253-43ce-4b62-bbd2-f215d4ee6b36",
   "metadata": {},
   "outputs": [],
   "source": []
  },
  {
   "cell_type": "code",
   "execution_count": null,
   "id": "5d775823-ee7f-4b7f-ac6d-c69837a39b44",
   "metadata": {},
   "outputs": [],
   "source": []
  }
 ],
 "metadata": {
  "kernelspec": {
   "display_name": "Python 3 (ipykernel)",
   "language": "python",
   "name": "python3"
  },
  "language_info": {
   "codemirror_mode": {
    "name": "ipython",
    "version": 3
   },
   "file_extension": ".py",
   "mimetype": "text/x-python",
   "name": "python",
   "nbconvert_exporter": "python",
   "pygments_lexer": "ipython3",
   "version": "3.10.10"
  }
 },
 "nbformat": 4,
 "nbformat_minor": 5
}
