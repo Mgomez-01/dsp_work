{
 "cells": [
  {
   "cell_type": "code",
   "execution_count": 3,
   "id": "84d00096-e467-4c92-ba08-ff11ef597a3e",
   "metadata": {},
   "outputs": [
    {
     "data": {
      "text/plain": [
       "['GA_DFT_code.ipynb',\n",
       " '.ipynb_checkpoints',\n",
       " 'test_GA_DFT.py',\n",
       " 'Untitled.ipynb',\n",
       " 'prob1.py',\n",
       " 'test_Clifford_DFT.py']"
      ]
     },
     "execution_count": 3,
     "metadata": {},
     "output_type": "execute_result"
    }
   ],
   "source": [
    "import os\n",
    "import numpy\n",
    "\n",
    "os.listdir('.')"
   ]
  },
  {
   "cell_type": "code",
   "execution_count": 5,
   "id": "59c9fdfa-9e6d-47de-b52d-a24a6286fa54",
   "metadata": {},
   "outputs": [],
   "source": [
    "import clifford as cf\n",
    "import numpy as np\n",
    "import numba"
   ]
  },
  {
   "cell_type": "code",
   "execution_count": 6,
   "id": "3d2a9e0e-772c-4ef4-8a51-7995ede87021",
   "metadata": {},
   "outputs": [
    {
     "name": "stderr",
     "output_type": "stream",
     "text": [
      "/home/speedy/.local/lib/python3.10/site-packages/numba/core/decorators.py:262: NumbaDeprecationWarning: \u001b[1mnumba.generated_jit is deprecated. Please see the documentation at: https://numba.readthedocs.io/en/stable/reference/deprecation.html#deprecation-of-generated-jit for more information and advice on a suitable replacement.\u001b[0m\n",
      "  warnings.warn(msg, NumbaDeprecationWarning)\n",
      "/home/speedy/.local/lib/python3.10/site-packages/numba/core/decorators.py:262: NumbaDeprecationWarning: \u001b[1mnumba.generated_jit is deprecated. Please see the documentation at: https://numba.readthedocs.io/en/stable/reference/deprecation.html#deprecation-of-generated-jit for more information and advice on a suitable replacement.\u001b[0m\n",
      "  warnings.warn(msg, NumbaDeprecationWarning)\n"
     ]
    }
   ],
   "source": [
    "from clifford import g3c\n",
    "# Get the layout in our local namespace etc etc\n",
    "layout = g3c.layout\n",
    "locals().update(g3c.blades)\n",
    "\n",
    "ep, en, up, down, homo, E0, ninf, no = (g3c.stuff[\"ep\"], g3c.stuff[\"en\"],\n",
    "                                        g3c.stuff[\"up\"], g3c.stuff[\"down\"], g3c.stuff[\"homo\"],\n",
    "                                        g3c.stuff[\"E0\"], g3c.stuff[\"einf\"], -g3c.stuff[\"eo\"])\n",
    "# Define a few useful terms\n",
    "E = ninf^(no)\n",
    "I5 = e12345\n",
    "I3 = e123"
   ]
  },
  {
   "cell_type": "code",
   "execution_count": 7,
   "id": "f263d2f8-7b6c-4967-9fc4-0824d576d4fe",
   "metadata": {},
   "outputs": [],
   "source": [
    "def apply_rotor(R,mv):\n",
    "    return R*mv*~R"
   ]
  },
  {
   "cell_type": "code",
   "execution_count": 8,
   "id": "60158b14-6528-4abc-8bf5-2d523ea5d48a",
   "metadata": {},
   "outputs": [],
   "source": [
    "line_one = (up(0)^up(e1)^ninf).normal()\n",
    "line_two = (up(0)^up(e2)^ninf).normal()\n",
    "R = 1 + line_two*line_one"
   ]
  },
  {
   "cell_type": "code",
   "execution_count": 9,
   "id": "bc81e533-95c3-47d4-94fb-8b6505a4c7b5",
   "metadata": {},
   "outputs": [
    {
     "name": "stdout",
     "output_type": "stream",
     "text": [
      "(1.0^e245)\n",
      "(1.0^e245)\n"
     ]
    }
   ],
   "source": [
    "print(line_two)\n",
    "print(apply_rotor(R,line_one).normal())"
   ]
  },
  {
   "cell_type": "code",
   "execution_count": 10,
   "id": "45f721bd-4465-4c02-9f01-21d152e9c0d5",
   "metadata": {},
   "outputs": [
    {
     "name": "stdout",
     "output_type": "stream",
     "text": [
      " "
     ]
    },
    {
     "data": {
      "text/plain": [
       "         25000003 function calls in 17.257 seconds\n",
       "\n",
       "   Ordered by: cumulative time\n",
       "\n",
       "   ncalls  tottime  percall  cumtime  percall filename:lineno(function)\n",
       "        1    0.000    0.000   17.257   17.257 {built-in method builtins.exec}\n",
       "        1    0.349    0.349   17.256   17.256 <string>:1(<module>)\n",
       "  1000000    1.126    0.000   16.908    0.000 85904652.py:1(apply_rotor)\n",
       "  2000000    3.901    0.000   12.045    0.000 _multivector.py:145(__mul__)\n",
       "  3000000    1.463    0.000    4.464    0.000 _multivector.py:90(_newMV)\n",
       "  2000000    3.275    0.000    3.780    0.000 __init__.py:206(mv_mult)\n",
       "  1000000    1.411    0.000    3.737    0.000 _multivector.py:369(adjoint)\n",
       "  3000000    1.637    0.000    3.001    0.000 _multivector.py:45(__init__)\n",
       "  3000000    1.364    0.000    1.364    0.000 {built-in method numpy.array}\n",
       "  2000000    0.968    0.000    1.315    0.000 _multivector.py:66(_checkOther)\n",
       "  1000000    0.656    0.000    0.912    0.000 _layout.py:664(adjoint_func)\n",
       "  3000000    0.760    0.000    0.760    0.000 serialize.py:30(_numba_unpickle)\n",
       "  2000000    0.208    0.000    0.208    0.000 _layout.py:504(__eq__)\n",
       "  2000000    0.139    0.000    0.139    0.000 {built-in method builtins.isinstance}\n",
       "        1    0.000    0.000    0.000    0.000 {method 'disable' of '_lsprof.Profiler' objects}"
      ]
     },
     "metadata": {},
     "output_type": "display_data"
    }
   ],
   "source": [
    "%%prun -s cumtime\n",
    "for i in range(1000000):\n",
    "    apply_rotor(R,line_one)"
   ]
  }
 ],
 "metadata": {
  "kernelspec": {
   "display_name": "Python 3 (ipykernel)",
   "language": "python",
   "name": "python3"
  },
  "language_info": {
   "codemirror_mode": {
    "name": "ipython",
    "version": 3
   },
   "file_extension": ".py",
   "mimetype": "text/x-python",
   "name": "python",
   "nbconvert_exporter": "python",
   "pygments_lexer": "ipython3",
   "version": "3.10.10"
  }
 },
 "nbformat": 4,
 "nbformat_minor": 5
}
